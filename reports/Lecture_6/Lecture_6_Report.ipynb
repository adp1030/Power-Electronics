{
 "cells": [
  {
   "cell_type": "markdown",
   "metadata": {},
   "source": [
    "# Lecture 6: Build Air-Core Inductor\n",
    "#### Andrew Phillips"
   ]
  },
  {
   "cell_type": "markdown",
   "metadata": {},
   "source": [
    "## Prep Work\n",
    "\n",
    "To wind our air-core inductor, we wrapped our copper wire around a steel pipe we found in the Power Electronics room.\n",
    "\n",
    "#### Calculations to Design Inductor\n",
    "\n",
    "To calculate the number of turns required to achieve an inductance in the specified range of 16uH to 20uH, we looked up the equation included below. Using the diameter of the steel pipe, we calculated the number of turns required to be 22, given the parameters below.\n",
    "\n",
    "Equation for inductance of an air-core inductor:\n",
    "\n",
    "![inductance_calc](inductance_calc.jpg)\n",
    "\n",
    "Coil length: 0.3125 inches\n",
    "\n",
    "Coil diameter: 1.125 inches\n",
    "\n",
    "To perform this calculation, we used this online calculator: https://www.electricaltechnology.org/2014/03/inductance-air-core-inductor-calculator.html\n",
    "\n",
    "#### Testing Results\n",
    "\n",
    "Testing our initial inductor with the LCR meter in the stockroom, we found our inductance to be 25uH, most likely due to the slight changes in the coil length and coil diameter made as we shimmied our winding off of the steel pipe we were winding around. Some of the windings ended up overlapping each other, resulting in a larger outer diameter of the inductor and a smaller coil length. Removing 3 turns resulted in an inductance value of 16.47uH, so our final inductor has 19 turns.\n",
    "\n",
    "![inductor_no_bobbin](inductor_no_bobbin.jpg)\n",
    "\n",
    "I then soldered the ends of the inductor to a bobbin, which slightly decreased the inductance to 16.21uH when remeasured on the LCR meter.\n",
    "\n",
    "![inductor_bobbin](inductor_bobbin.jpg)\n",
    "\n",
    "#### Final Inductor Design Drawing\n",
    "\n",
    "![inductor_drawing](inductor_drawing.jpg)\n",
    "\n",
    "## Inductor Permenance Calculation\n",
    "\n",
    "![perm_calc](perm_calc.jpg)\n",
    "\n",
    "## Cross-Section Showing Ampere's Law\n",
    "\n",
    "The cross section below intersects the inductor across its length, showing the windings going in and out of the page. The red loops represent the magnetic field being created by the inductor, storing energy in its field.\n",
    "\n",
    "![cross_section](cross_section.jpg)\n"
   ]
  }
 ],
 "metadata": {
  "language_info": {
   "name": "python"
  }
 },
 "nbformat": 4,
 "nbformat_minor": 2
}
