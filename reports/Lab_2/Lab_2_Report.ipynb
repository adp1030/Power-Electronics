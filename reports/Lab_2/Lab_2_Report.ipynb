{
 "cells": [
  {
   "cell_type": "markdown",
   "metadata": {},
   "source": [
    "# Lab 2: Digital Twin\n",
    "Andrew Phillips"
   ]
  },
  {
   "cell_type": "code",
   "execution_count": 2,
   "metadata": {},
   "outputs": [],
   "source": [
    "import matplotlib.pyplot as plt"
   ]
  },
  {
   "cell_type": "markdown",
   "metadata": {},
   "source": [
    "## Prelab\n",
    "\n",
    "My initial buck converter model is shown in the screenshot below:\n",
    "\n",
    "![initial_buck_schematic](buck_schematic_1.png)\n",
    "\n",
    "Determining starting inductance value and peak current:\n",
    "\n",
    "Given the starting conditions, we can determine that the buck converter is running in discontinuous conduction mode, as the given duty cycle (35%) is below the voltage conversion ratio of 0.444. Given this understanding, we can use the DCM equation included below and rearrange it to solve for the buck's inductance value.\n",
    "\n",
    "![inductance_deriv](inductance_derivation.jpg)\n",
    "\n",
    "This equation requires the resistance value of the output load, which can be calculated from the given output voltage and output power values. I calculated the output load resistance to be 5.333 Ohms, and the inductance of the buck converter to be 18uH. From this value, the peak current of the buck converter can be calculated with the equation below to be 3.81A:\n",
    "\n",
    "![peak_current_calc](peak_current_calc.jpg)\n",
    "\n",
    "I can then calculate the voltage of buck operating at 50% duty cycle to be 9.55V with the equation below:\n",
    "\n",
    "![out_v_calc](output_voltage_calc.jpg)\n",
    "\n",
    "My PLECS model simulated the output voltage at 50% duty cycle to be 9.05V, which is relatively close to my calculated voltage value."
   ]
  },
  {
   "cell_type": "markdown",
   "metadata": {},
   "source": [
    "## Lab Questions\n",
    "\n",
    "### Task 1\n",
    "\n",
    "1. F_osc = 1.72/(R_rt*C_ct) = 99.34kHz\n",
    "2. \n",
    "\n",
    "![UC2844_output](uc2844_iout.png)\n",
    "\n",
    "The switching frequency of this screenshot is 50kHz. This makes sense as the calculated oscillator frequency should be double the output frequency.\n",
    "\n",
    "3. The duty cycle of the output current is 50%. This makes sense as the COMP pin is open, so no comparison is happening to affect the duty cycle. The only waveform that is driving the output current waveform is the T flipflop output, shown in blue in the schematic below.\n",
    "\n",
    "![IC_schematic](IC_schematic.png)\n",
    "\n",
    "4. \n",
    "\n",
    "Initial buck converter:\n",
    "\n",
    "![buck_schematic_1](buck_schematic_1.png)\n",
    "\n",
    "Initial initialization script:\n",
    "\n",
    "![i_script_1](i_script_1.png)\n",
    "\n",
    "### Task 2\n",
    "\n",
    "5. Yes, the output voltage of the buck converter is 10.04V, which closely matches my calculated output voltage of 9.05V.\n",
    "\n",
    "Output waveforms for the COMP pin voltage source at 2.3V are included below:\n",
    "\n",
    "![Task_2_Ipk_V_2_3](Task_2_Ipk_V_2_3.png)\n",
    "\n",
    "One interesting observation from the input current (Am1) is that as the voltage increases at the COMP pin above 2V, the input current initially has a higher peak value before settling to a peak value of 4.333A after several periods, when the output current reaches steady state. This steady state current value is used to create the peak current plot below.\n",
    "\n",
    "6. "
   ]
  },
  {
   "cell_type": "code",
   "execution_count": 3,
   "metadata": {},
   "outputs": [
    {
     "data": {
      "text/plain": [
       "Text(0.5, 1.0, 'COMP pin voltage vs Measured Peak Current')"
      ]
     },
     "execution_count": 3,
     "metadata": {},
     "output_type": "execute_result"
    },
    {
     "data": {
      "image/png": "[encoded data removed]",
      "text/plain": [
       "<Figure size 640x480 with 1 Axes>"
      ]
     },
     "metadata": {},
     "output_type": "display_data"
    }
   ],
   "source": [
    "#6\n",
    "v_comp = [1.5,1.6,1.7,1.8,1.9,2.0,2.1,2.2,2.3]\n",
    "Ipk = [1.333,2.000,2.667,3.333,4.000,4.313,4.313,4.313,4.313]\n",
    "\n",
    "plt.plot(v_comp,Ipk, '.')\n",
    "plt.xlabel(\"COMP pin voltage (V)\")\n",
    "plt.ylabel(\"Peak Current (A)\")\n",
    "plt.title(\"COMP pin voltage vs Measured Peak Current\")"
   ]
  },
  {
   "cell_type": "markdown",
   "metadata": {},
   "source": [
    "The plot above initially shows a linear relationship between peak current and COMP pin voltage for voltage values between 1.5V and 2.0V. Increasing the voltage beyond 2.0V does not raise the steady state peak current past ~4.313A. This linear relationship stops at 2.0V because of the zener diode in the compensator circuit. \n",
    "\n",
    "![comp_block](comparator_block.png)\n",
    "\n",
    "The voltage going into the COMP pin initially experiences a drop of ~1V from two diodes, then is passed through a resistive divider, giving the compensator in the circuit a voltage of ~(Vcomp-1)/3. Due to the zener diode also connected to this node, when this voltage value exceeds the zener voltage, any excess current is dissipated through the zener, not allowing the voltage at the compensator input to exceed a certain value. This value correlates with 2V being input into the COMP pin, as that is when the linear relationship between COMP pin voltage and peak current breaks down.\n",
    "\n",
    "7. For voltages between 1.5-2.0V, a linear relationship can be established defined by the equation below, derived by fitting a line of best fit to this portion of the COMP pin voltage vs peak current plot:\n",
    "\n",
    "Peak Current = 6.6667*COMP pin voltage-8.7\n",
    "\n",
    "This expression is implemented in hardware by the components in Figure 12 of the UC2844 datasheet. In the current configuration with VCC and RT/CT disconnected, the COMP input is passed through the compensator network, is inverted and compared against the transistor current. The voltage point set at the COMP pin is a reference point, where if the sensed current is greater than the set point, the MOSFET gate voltage is set low, disconnecting the circuit input and output. With this configuration, the voltage set at the COMP pin sets the peak current of the buck converter.\n",
    "\n",
    "8. The output waveforms from the applied equation are shown below. The above equation has been rearranged to solve for the COMP pin voltage, and the peak current has set to 3.81A (the appropriate current for an 8V output as calculated in the prelab).\n",
    "\n",
    "![q8_output](Q8_Output.png)\n",
    "\n",
    "Vm1 is the output voltage trace, which rises to the desired steady state value of 8V, showing that this equation has been correctly implemented.\n",
    "\n",
    "9. The waveforms below show the source current (Am1), the shunt voltage (Vm2), the output current (Am2), and the output voltage (Vm1).\n",
    "\n",
    "![q8_output](Q8_Output_1.png)\n",
    "\n",
    "In the source current trace, we can see the input current being turned on and off as it reaches the peak current set by the voltage at the COMP pin. The current rises linearly, reaches its peak (3.81A), and is then disconnected by the MOSFET opening, driven by the comparison logic.\n",
    "\n",
    "We can see a similar waveform in the shunt voltage trace, which rises linearly until it is disconnected by the MOSFET, showing the same behavior as the source current trace. The peak value here is not being directly controlled for like the source current, as is instead following Ohm's law.\n",
    "\n",
    "In the output voltage trace, we can see the waveform oscillating around the desired output voltage of ~8V. This oscillation is being driven by the switching operation of the MOSFET connecting and disconnecting the input source. When the MOSFET is closed and the source current and shunt voltage start increasing, we can see both the output voltage and current waveforms start to rise, and subsequently fall when the MOSFET opens and the source waveforms drop to 0. During this \"off\" time, the energy stored in the inductor is dumped into the output load to help maintain a steady voltage. The buck's capacitor also helps smooth out this waveform. The output current trace shows the same behavior, following Ohm's law as driven by the desired output voltage.\n",
    "\n",
    "The waveforms below show the FET drain voltage (Vm3) and the inductor current (Am4).\n",
    "\n",
    "![q9_output](Q9_inductor_FET.png)\n",
    "\n",
    "In the inductor current trace, we can see that the converter is operating in discontinuous operation mode, as the inductor's current reaches 0 before the period resets. We can also see that the FET drain voltage drops from 18V to 10V when the inductor is fully charged, as the input only has to supply the output load.\n",
    "\n",
    "10. \n",
    "\n",
    "Final task 2 schematic: \n",
    "\n",
    "![task_2_schem](buck_schematic_2.png)\n",
    "\n",
    "Task 2 initialization script:\n",
    "\n",
    "![task2iscript](task_2_i_script.png)\n",
    "\n",
    "### Task 3\n",
    "\n",
    "Final task 3 schematic:\n",
    "\n",
    "![task3](task3schematic.png)\n",
    "\n",
    "11. I am using unknown value #6 for the mystery inductor.\n",
    "\n",
    "12. I calculated the value of the unknown inductance to be 9.84uH.\n",
    "\n",
    "13. I calculated this unknown inductance in 2 ways. The first way is dependent on the peak current I am setting the UC2844 to control for, using the equation below:\n",
    "\n",
    "![peak](peak_current_calc.jpg)\n",
    "\n",
    "I rearranged this equation for alpha and solved for the buck's inductor value, resulting in a value of 9.84uH.\n",
    "\n",
    "Another way I calculated this inductance was using the device parameters of the inductor. Using the equation for the voltage across the inductor shown below, I rearranged for the inductance value, approximating the voltage across the inductor as (Vg-V). I used the slope of the input current waveform shown in Q9 (Am1) to approximate a value for dI/dt, resulting in an inductance value of 10.01uH.\n",
    "\n",
    "![icalc](inductor_calc.jpg)"
   ]
  }
 ],
 "metadata": {
  "kernelspec": {
   "display_name": "Python 3",
   "language": "python",
   "name": "python3"
  },
  "language_info": {
   "codemirror_mode": {
    "name": "ipython",
    "version": 3
   },
   "file_extension": ".py",
   "mimetype": "text/x-python",
   "name": "python",
   "nbconvert_exporter": "python",
   "pygments_lexer": "ipython3",
   "version": "3.10.12"
  }
 },
 "nbformat": 4,
 "nbformat_minor": 2
}
