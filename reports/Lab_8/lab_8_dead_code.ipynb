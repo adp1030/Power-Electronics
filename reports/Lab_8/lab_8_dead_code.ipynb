{
 "cells": [
  {
   "cell_type": "markdown",
   "metadata": {},
   "source": [
    "# Lab 8: Losses and Efficiency Analysis\n",
    "\n",
    "#### Andrew Phillips"
   ]
  },
  {
   "cell_type": "markdown",
   "metadata": {},
   "source": [
    "## Prelab: Preparing to Measure Efficiency and Losses\n",
    "\n",
    "In this prelab, I started calculating the losses present in our lab hardware. These losses can be largely grouped into two categorie: conduction losses, which are resistive losses that are unavoidable when real components carry an electric current, and switching losses, which are largely caused by the semiconductor devices in our circuit changing operation regions and the parasitic capacitances present in the circuit constantly charging and discharging in the circuit. To start my investigation, I came up with a list of loss mechanisms I was aware of that I wanted to measure, broken into conduction and switching losses below:\n",
    "\n",
    "(We are using clamp and high frequency snubber for this lab)\n",
    " \n",
    "Conduction Losses:\n",
    "- FET conduction losses (based on Rds on)\n",
    "- Diode conduction losses\n",
    "- Transformer conduction losses\n",
    "- Shunt losses (minimal)\n",
    "- Conduction losses related to snubber and clamp (predominant loss form, calculate average power from PLECS waveforms)\n",
    "\n",
    "Switching Losses: \n",
    "- FET switching losses (From moving through the saturation region to the active region. Note on this: In DCM, we will only see loss at FET turn on)\n",
    "- Diode switching losses (Note, turn on losses are small, but turn off is significant due to the reverse recovery effect. This is minimal in a Schottky)\n",
    "- Switching losses from caps in circuit and clamp/snubber (minimal)\n",
    "- Ringing loss"
   ]
  },
  {
   "cell_type": "code",
   "execution_count": 199,
   "metadata": {},
   "outputs": [],
   "source": [
    "import csv\n",
    "import pandas as pd\n",
    "\n",
    "# read funky Rigol CSV format\n",
    "def read_rigol_csv(csv_file_name):\n",
    "    with open(csv_file_name) as f:\n",
    "        rows = list(csv.reader(f))\n",
    "        i = 0\n",
    "        while rows[0][i] != \"\":\n",
    "            i = i+1\n",
    "        numcols = i-2\n",
    "        t0 = float(rows[1][numcols])\n",
    "        dT = float(rows[1][numcols+1])\n",
    "    data = pd.read_csv(csv_file_name, usecols=range(0,numcols), skiprows=[1])\n",
    "    data['X'] = t0+data['X']*dT\n",
    "    return data, t0, dT"
   ]
  },
  {
   "cell_type": "code",
   "execution_count": 200,
   "metadata": {},
   "outputs": [
    {
     "data": {
      "text/plain": [
       "'\\n###\\n# zero out shunt ringing\\nfor i,x in enumerate(l7_cl_shunt):\\n    if x < 0:\\n        l7_cl_shunt[i] = 0\\n\\nfor i in range(3200, len(l7_cl_shunt)):\\n    l7_cl_shunt[i] = 0\\n\\nprint(l7_cl_shunt)\\n\\n# zero out negative drain values\\nfor i,x in enumerate(l7_cl_drain):\\n    if x < 0:\\n        l7_cl_drain[i] = 0\\n\\nprint(l7_cl_drain)\\n'"
      ]
     },
     "execution_count": 200,
     "metadata": {},
     "output_type": "execute_result"
    }
   ],
   "source": [
    "# import previous lab's data\n",
    "\n",
    "# clamp\n",
    "[l7_cl, l7_cl_t0, l7_cl_dT] = read_rigol_csv('data/lab_7_clamp.csv')\n",
    "\n",
    "# apply data filter\n",
    "l7_cl['CH1'] = l7_cl['CH1'].rolling(10).mean() # shunt voltage\n",
    "l7_cl['CH2'] = l7_cl['CH2'].rolling(10).mean() # drain voltage\n",
    "l7_cl['CH3'] = l7_cl['CH3'].rolling(10).mean() # cathode voltage\n",
    "\n",
    "# remove NAN values from matricies\n",
    "l7_cl_shunt = l7_cl['CH1'][500:5600]\n",
    "l7_cl_drain = l7_cl['CH2'][500:5600]\n",
    "l7_cl_time = l7_cl['X'][500:5600]\n",
    "\n",
    "# convert shunt voltage to shunt current\n",
    "Rshunt = 0.05 # Ohms\n",
    "l7_cl_shunt = [x/(Rshunt*10) for x in l7_cl_shunt]\n",
    "l7_cl_drain = [x+1-1 for x in l7_cl_drain]\n",
    "\n",
    "'''\n",
    "###\n",
    "# zero out shunt ringing\n",
    "for i,x in enumerate(l7_cl_shunt):\n",
    "    if x < 0:\n",
    "        l7_cl_shunt[i] = 0\n",
    "\n",
    "for i in range(3200, len(l7_cl_shunt)):\n",
    "    l7_cl_shunt[i] = 0\n",
    "\n",
    "print(l7_cl_shunt)\n",
    "\n",
    "# zero out negative drain values\n",
    "for i,x in enumerate(l7_cl_drain):\n",
    "    if x < 0:\n",
    "        l7_cl_drain[i] = 0\n",
    "\n",
    "print(l7_cl_drain)\n",
    "'''\n"
   ]
  },
  {
   "cell_type": "code",
   "execution_count": 201,
   "metadata": {},
   "outputs": [
    {
     "name": "stdout",
     "output_type": "stream",
     "text": [
      "Ipk from clamp testing 8.56\n",
      "I_rms in A: 2.9237966185538053\n",
      "Primary winding resistance: 30.342557064802058\n",
      "FET conduction losses: 0.2906519466666667\n",
      "Diode Conduction losses: 1.9881817006165878\n",
      "Clamp conduction losses: 4.25145952\n",
      "Snubber conduction losses: 0.0188356\n",
      "Shunt conduction losses: 0.4274293333333334\n",
      "FET switching losses: 0.001120504\n"
     ]
    }
   ],
   "source": [
    "# Calculation block\n",
    "from math import sqrt\n",
    "import numpy as np\n",
    "\n",
    "# Circuit parameters\n",
    "# From worksheet\n",
    "Vg = 18 # V\n",
    "Vo = 10 # V\n",
    "Pout = 20 # W\n",
    "Fs = 50 # kHz\n",
    "D = 0.35 # duty cycle\n",
    "\n",
    "Rcp = 22 # Ohms, clamp resistance\n",
    "Rsb_f = 10 # Ohms, fast snubber resistance\n",
    "\n",
    "# From previous lab\n",
    "Vpk_s = 4.28/10 # V, in shunt waveform from clamp testing in Lab 7\n",
    "\n",
    "# baseline values\n",
    "zeta_b = 0.041 # zeta baseline\n",
    "L_b = 0.89e-6 # leakage\n",
    "C_b = 6.5e-12 # capacitance\n",
    "\n",
    "# From datasheets\n",
    "Rds = 0.034 # Ohms\n",
    "Vf = 0.68 # Forward voltage of diode\n",
    "\n",
    "t_fall = 170e-9 #s\n",
    "Vin = 30.8 #V\n",
    "\n",
    "# From PLECS, using fundamental frequency of 50kHz\n",
    "Irms_c = 0.4396 # clamp RMS current\n",
    "Irms_s = 0.0434 # snubber RMS current\n",
    "# Irms_shunt = 2.2403 # shunt RMS current\n",
    "\n",
    "# Calculate RMS current primary\n",
    "Ipk = Vpk_s/Rshunt \n",
    "print(\"Ipk from clamp testing\",Ipk)\n",
    "Irms = sqrt(D/3)*Ipk\n",
    "print(\"I_rms in A:\",Irms) # very large\n",
    "\n",
    "# calculate transformer primary winding resistance\n",
    "Rw = (2*zeta_b)/sqrt(C_b/L_b)\n",
    "print(\"Primary winding resistance:\",Rw)\n",
    "\n",
    "# Conduction losses\n",
    "FET_c = Rds*Irms**2\n",
    "print(\"FET conduction losses:\",FET_c)\n",
    "\n",
    "D_c = Vf*Irms\n",
    "print(\"Diode Conduction losses:\",D_c)\n",
    "\n",
    "# Tran_c = Rw*Irms_shunt**2\n",
    "# print(\"Transformer conduction losses:\",Tran_c)\n",
    "# ^ This equation isn't useful because the transformer is only \n",
    "# causing conduction loss when it is ringing, which is only a\n",
    "# very small amount of the waveform\n",
    "\n",
    "Clamp_c = Irms_c**2*Rcp\n",
    "print(\"Clamp conduction losses:\",Clamp_c)\n",
    "\n",
    "Snubber_c = Irms_s**2*Rsb_f\n",
    "print(\"Snubber conduction losses:\",Snubber_c)\n",
    "\n",
    "Shunt_c = Irms**2*Rshunt\n",
    "print(\"Shunt conduction losses:\",Shunt_c)\n",
    "\n",
    "# Switching losses\n",
    "# FET switching losses: drain voltage * shunt current\n",
    "# FET_s_list = np.multiply(l7_cl_drain,l7_cl_shunt)\n",
    "# FET_s = sum(FET_s_list)\n",
    "\n",
    "FET_s = 0.5*Vin*Ipk*t_fall*Fs # we only have turn off losses because we are running in DCM\n",
    "print(\"FET switching losses:\",FET_s)\n",
    "\n",
    "# Diode switching losses:\n",
    "# wait we use a schottky so what (Elvis said it should be minimal)"
   ]
  },
  {
   "cell_type": "code",
   "execution_count": 202,
   "metadata": {},
   "outputs": [
    {
     "data": {
      "image/png": "[encoded data removed]",
      "text/plain": [
       "<Figure size 640x480 with 1 Axes>"
      ]
     },
     "metadata": {},
     "output_type": "display_data"
    }
   ],
   "source": [
    "# Plot in pie chart\n",
    "import matplotlib.pyplot as plt\n",
    "\n",
    "losses = np.array([FET_c,FET_s,D_c,Shunt_c,Clamp_c,Snubber_c,])\n",
    "labels = [\"FET Cond\",\"FET switch\",\"Diode Cond\",\"Shunt Cond\",\"Clamp Cond\",\"Snub Cond\"]\n",
    "plt.pie(losses,labels=labels)\n",
    "plt.show()"
   ]
  },
  {
   "cell_type": "markdown",
   "metadata": {},
   "source": [
    "## Data Collection\n",
    "\n",
    "To collect the data"
   ]
  },
  {
   "cell_type": "code",
   "execution_count": 203,
   "metadata": {},
   "outputs": [
    {
     "name": "stdout",
     "output_type": "stream",
     "text": [
      "Input power: 29.88\n",
      "Output Power: 20.0\n",
      "Efficiency: 0.6693440428380187\n",
      "Total power lost: 9.879999999999999\n",
      "Input power: 29.342000000000002\n",
      "Output Power: 19.602\n",
      "Efficiency: 0.6680526208165769\n",
      "Total power lost: 9.740000000000002\n"
     ]
    }
   ],
   "source": [
    "# efficiency calc\n",
    "# task 1:\n",
    "Rload = 5 #Ohms\n",
    "\n",
    "Vg = 18 #V\n",
    "Vo = 10 #V\n",
    "Iin = 1.66 #A\n",
    "Iout = Vo/Rload #A\n",
    "\n",
    "Pin = Vg*Iin\n",
    "print(\"Input power:\",Pin)\n",
    "Pout = Vo*Iout\n",
    "print(\"Output Power:\",Pout)\n",
    "\n",
    "Eff_1 = Pout/Pin\n",
    "print(\"Efficiency:\",Eff_1)\n",
    "\n",
    "Plost = Pin-Pout\n",
    "print(\"Total power lost:\",Plost)\n",
    "\n",
    "# task 2:\n",
    "Vg_2 = 17.26 #V\n",
    "Vo_2 = 9.9 #V\n",
    "Iin_2 = 1.7 #A\n",
    "Iout_2 = Vo_2/Rload\n",
    "\n",
    "Pin_2 = Vg_2*Iin_2\n",
    "print(\"Input power:\",Pin_2)\n",
    "Pout_2 = Vo_2*Iout_2\n",
    "print(\"Output Power:\",Pout_2)\n",
    "\n",
    "Eff_2 = Pout_2/Pin_2\n",
    "print(\"Efficiency:\",Eff_2)\n",
    "\n",
    "Plost_2 = Pin_2-Pout_2\n",
    "print(\"Total power lost:\",Plost_2)"
   ]
  },
  {
   "cell_type": "markdown",
   "metadata": {},
   "source": [
    "Task 2 BCM values:\n",
    "\n",
    "Input : 17.26V, 1.7A\n",
    "Output: 9.9V"
   ]
  }
 ],
 "metadata": {
  "kernelspec": {
   "display_name": "Python 3",
   "language": "python",
   "name": "python3"
  },
  "language_info": {
   "codemirror_mode": {
    "name": "ipython",
    "version": 3
   },
   "file_extension": ".py",
   "mimetype": "text/x-python",
   "name": "python",
   "nbconvert_exporter": "python",
   "pygments_lexer": "ipython3",
   "version": "3.10.12"
  }
 },
 "nbformat": 4,
 "nbformat_minor": 2
}
