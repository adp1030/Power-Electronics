{
  "nbformat": 4,
  "nbformat_minor": 0,
  "metadata": {
    "colab": {
      "provenance": []
    },
    "kernelspec": {
      "name": "python3",
      "display_name": "Python 3"
    },
    "language_info": {
      "name": "python"
    }
  },
  "cells": [
    {
      "cell_type": "markdown",
      "source": [
        "From: https://elnamagnetics.com/wp-content/uploads/library/Ferroxcube-Documents/Design_of_Planar_Power_Transformers.pdf\n",
        "\n",
        "Core datasheet: https://www.farnell.com/datasheets/1524995.pdf\n",
        "\n",
        "TI Paper: https://www.ti.com/download/trng/docs/seminar/Topic4LD.pdf\n",
        "\n"
      ],
      "metadata": {
        "id": "St2yuEstshB-"
      }
    },
    {
      "cell_type": "code",
      "execution_count": null,
      "metadata": {
        "colab": {
          "base_uri": "https://localhost:8080/"
        },
        "id": "u7irmIkvsXkq",
        "outputId": "7982377d-c331-447c-bb92-77c070b9ed31"
      },
      "outputs": [
        {
          "output_type": "stream",
          "name": "stdout",
          "text": [
            "6.253107070637282e-05\n",
            "TRANSFORMER SPECS \n",
            " Primary turns: 5 \n",
            " Secondary turns: 3 \n",
            " Primary inductance: 19.84 uH \n",
            " Calculated air gap 2.46 thou \n",
            "\n",
            "RMS CURRENTS \n",
            " RMS input current: 3.9 \n",
            " RMS output current: 2.17 \n",
            "\n",
            "E-18 Calculated Track width: 0.31999999999999995 mm\n",
            "cross section of track: 0.0364 mm^2\n",
            "Total PCB stackup: 0.00098 m\n"
          ]
        }
      ],
      "source": [
        "from math import sqrt, pi, asin, log\n",
        "\n",
        "# Design constraints, Lab 6\n",
        "Vg = 18                       # Input voltage, V\n",
        "Vo = 10                       # Output voltage, V\n",
        "Pout = 20                     # Output power, W\n",
        "fs = 50e3                     # Switching frequency, fs\n",
        "Ts = 1/fs                     # Switching period\n",
        "D = 0.35                      # Duty cycle\n",
        "alpha = 0.8                   # Critical inductance ratio\n",
        "Bmax = 0.3                    # Maximum flux density, T\n",
        "a = Vo/Vg*(sqrt(alpha)-D)/D   # Turns ratio\n",
        "L = 18e-6                     # Desired inductance, H\n",
        "Ro = 5                        # Output load resistance, Ohms\n",
        "\n",
        "uo = pi*4e-7                  # Permeability of free space, N/A^2\n",
        "\n",
        "# Lab hardware dimensions\n",
        "X1w = 23.2e-3                 # transformer footprint width, m\n",
        "X1h = 23.2e-3                 # transformer footprint length, m\n",
        "\n",
        "# Transformer calculations\n",
        "# Using core E18\n",
        "Ae = 39.5e-6                  # effective cross sectional area, m^2\n",
        "\n",
        "N1_calc = (Vg*D)/(2*fs*Bmax*Ae)    # Primary turns\n",
        "N2_calc = (N1_calc*Vo)/Vg          # Secondary turns\n",
        "\n",
        "N1 = 5\n",
        "N2 = 3\n",
        "\n",
        "Lprim = (Vg*D)**2/(2*Pout*fs) # Primary winding inductance, H\n",
        "\n",
        "Le = (uo*N1**2*Ae)/Lprim      # Airgap length, in m\n",
        "print(Le)\n",
        "Le_thou = Le*39.37e3          # Meters -> thousandths of inch\n",
        "\n",
        "print(\"TRANSFORMER SPECS \\n Primary turns:\", round(N1, 2),\n",
        "      \"\\n Secondary turns:\", round(N2, 2),\n",
        "      \"\\n Primary inductance:\", round(Lprim*1e6, 2), \"uH\",\n",
        "      \"\\n Calculated air gap\", round(Le_thou, 2), \"thou \\n\")\n",
        "\n",
        "Io = (Pout/Vo)*sqrt(4/(3*D))     # secondary output current (RMS), A\n",
        "Ip = (Vg*D)/(fs*Lprim)*sqrt(D/3) # primary input current (RMS), A\n",
        "\n",
        "print(\"RMS CURRENTS \\n RMS input current:\", round(Io, 2),\n",
        "      \"\\n RMS output current:\", round(Ip, 2), \"\\n\")\n",
        "\n",
        "# E-18 core specs\n",
        "bw = 3.6                        # Winding width, mm\n",
        "s = 0.3                         # Spacing between tracks, mm\n",
        "wt_calc = (bw - 0.8 - (N1-1)*s)/N1   # Track width, mm\n",
        "wt_m_calc = wt_calc/1000\n",
        "\n",
        "print(\"E-18 Calculated Track width:\", wt_m_calc*1e3, \"mm\")\n",
        "\n",
        "wt_m = 0.52/1000 # using track width of 0.52 mm\n",
        "\n",
        "# temperature rise based on track width\n",
        "winding_t = 70e-6            # thickness of winding layer, in m\n",
        "track_cross_section = wt_m*winding_t\n",
        "print(\"cross section of track:\",track_cross_section*1e6,\"mm^2\")\n",
        "\n",
        "# pcb stackup calcs:\n",
        "ins_t = 200e-6               # thickness of insulation, in m\n",
        "smask_t = 50e-6              # solder mask thickness, in m\n",
        "pcb_stackup = ins_t*3 + smask_t*2 + winding_t*4\n",
        "print(\"Total PCB stackup:\", pcb_stackup, \"m\")"
      ]
    },
    {
      "cell_type": "code",
      "source": [
        "# Leakage inductance calc using TI paper\n",
        "H = (N1*Ip)/bw                          # Field intensity\n",
        "E_density = 0.5*uo*H**2                 # Energy density, joules/m^3\n",
        "v = winding_t*(bw*1e-3)*(bw*1e-3)       # Volume of inter-winding region\n",
        "E_tot = E_density*v                     # Total energy\n",
        "L_sigma = (2*E_tot)/Ip**2\n",
        "\n",
        "print(L_sigma)"
      ],
      "metadata": {
        "colab": {
          "base_uri": "https://localhost:8080/"
        },
        "id": "BdoCfXxwWsUi",
        "outputId": "52b98e69-bda4-4e3a-b914-4a115c44818d"
      },
      "execution_count": null,
      "outputs": [
        {
          "output_type": "stream",
          "name": "stdout",
          "text": [
            "2.1991148575128555e-15\n"
          ]
        }
      ]
    },
    {
      "cell_type": "code",
      "source": [
        "# Parasitic capacitance\n",
        "er = 4.8          # Permittivity of dielectric between layers (FR4), F/m\n",
        "e0 = 8.854e-12    # Permitivity of free space, F/m\n",
        "d = 0.2           # distance between layers,m\n",
        "n = 5             # Num. of turns between both layers (same for both top-middle & middle-bottom pairs)\n",
        "m = 2             # Num. layers in series\n",
        "\n",
        "# interwinding capacitance of primary\n",
        "A = 81.8e-3*0.52e-3                 # Area of trace\n",
        "C0 = er*e0*A/d                      # Capacitance of effective area\n",
        "Cd = ((n+1)*(2*n+1))/(12*n)*C0      # Capacitance between two layers with n turns\n",
        "Cw = (4*(m-1))/m**2*Cd              # Overall capacitance, m layers in series for the same winding\n",
        "print(\"Interwinding capacitance of primary winding:\", Cw)\n",
        "\n",
        "C_total = Cd+Cw\n",
        "\n",
        "print(\"Total parasitic capacitance:\", C_total, \"\\nTotal parasitic capacitance (pF):\", C_total*1e12) # 0.0198 pF\n",
        "\n"
      ],
      "metadata": {
        "colab": {
          "base_uri": "https://localhost:8080/"
        },
        "id": "9Vebzic1ilEd",
        "outputId": "5fb29a54-32ab-4d45-ecb0-d490a31d6a95"
      },
      "execution_count": null,
      "outputs": [
        {
          "output_type": "stream",
          "name": "stdout",
          "text": [
            "Interwinding capacitance of primary winding: 9.942602841599997e-15\n",
            "Total parasitic capacitance: 1.9885205683199995e-14 \n",
            "Total parasitic capacitance (pF): 0.019885205683199996\n"
          ]
        }
      ]
    }
  ]
}